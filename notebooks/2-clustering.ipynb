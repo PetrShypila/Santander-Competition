{
 "cells": [
  {
   "cell_type": "code",
   "execution_count": null,
   "metadata": {
    "collapsed": false
   },
   "outputs": [],
   "source": [
    "import numpy as np\n",
    "import pandas as pd\n",
    "from numpy import dtype\n",
    "from sklearn.mixture import GMM\n",
    "from sklearn.cluster import KMeans\n",
    "from datetime import datetime as dt\n",
    "from sklearn.metrics import silhouette_score\n",
    "%matplotlib inline\n",
    "pd.set_option('display.max_columns', None)"
   ]
  },
  {
   "cell_type": "code",
   "execution_count": null,
   "metadata": {
    "collapsed": false
   },
   "outputs": [],
   "source": [
    "dtype={'tiprel_1mes': np.str, 'ult_fec_cli_1t':np.str, 'indrel_1mes':np.str}\n",
    "\n",
    "parse_dates = ['fecha_alta', 'ult_fec_cli_1t']\n",
    "\n",
    "iter_csv = pd.read_csv('../data/processed/train-processed.csv.gz', skipinitialspace = True, \n",
    "                       iterator=True, chunksize=50000, dtype=dtype, parse_dates=parse_dates)\n",
    "\n",
    "#corrupted = pd.concat([chunk[chunk['ncodpers'].between(660248, 660250)] for chunk in iter_csv]) #Small dataset could be used for testing\n",
    "data = pd.concat([chunk for chunk in iter_csv], ignore_index=True)"
   ]
  },
  {
   "cell_type": "code",
   "execution_count": null,
   "metadata": {
    "collapsed": false
   },
   "outputs": [],
   "source": [
    "data.head()"
   ]
  },
  {
   "cell_type": "code",
   "execution_count": null,
   "metadata": {
    "collapsed": false
   },
   "outputs": [],
   "source": [
    "#removed corrupted data and redundant\n",
    "data = data[data.sexo.notnull()]\n",
    "data.drop('conyuemp', axis=1, inplace=True) # Contains just single diff value. All others same\n",
    "data.drop('tipodom', axis=1, inplace=True)\n",
    "\n",
    "#converting dates to timestamps\n",
    "data.fecha_alta = data.fecha_alta.astype('int64')//1e9\n",
    "data.ult_fec_cli_1t = data.ult_fec_cli_1t.astype('int64')//1e9\n",
    "\n",
    "#ind_empleado\n",
    "ind_empleado = pd.get_dummies(data.ind_empleado, prefix = 'ind_empleado')\n",
    "data.drop('ind_empleado', axis=1, inplace=True)\n",
    "data = pd.concat([data, ind_empleado], axis=1)\n",
    "\n",
    "#tiprel_1mes\n",
    "tiprel_1mes = pd.get_dummies(data.tiprel_1mes, prefix = 'tiprel_1mes')\n",
    "data.drop('tiprel_1mes', axis=1, inplace=True)\n",
    "data = pd.concat([data, tiprel_1mes], axis=1)\n",
    "\n",
    "data.indrel = data.indrel.replace([99.], [0.])\n",
    "data.indrel_1mes = data.indrel_1mes.replace(['P'], [5.])\n",
    "data.indrel_1mes = pd.to_numeric(data.indrel_1mes)\n",
    "\n",
    "data.indfall = data.indfall.replace(['S','N'], [1.,0.])"
   ]
  },
  {
   "cell_type": "code",
   "execution_count": null,
   "metadata": {
    "collapsed": false,
    "scrolled": false
   },
   "outputs": [],
   "source": [
    "for col, col_data in data.iteritems():\n",
    "    if col != 'antiguedad' and not col.endswith('_ult1'):\n",
    "        print col, col_data.unique()\n",
    "        print \"###\""
   ]
  },
  {
   "cell_type": "code",
   "execution_count": null,
   "metadata": {
    "collapsed": false,
    "scrolled": true
   },
   "outputs": [],
   "source": [
    "clean_data = data.query('(indrel_1mes == indrel_1mes)')\n",
    "clean_data = clean_data.query('(cod_prov == cod_prov)')\n",
    "clean_data = clean_data.query('(canal_entrada == canal_entrada)')\n",
    "clean_data = clean_data.drop(['pais_residencia','canal_entrada', 'renta'], axis=1)\n",
    "\n",
    "print('calculating')\n",
    "for k in range(2,11):\n",
    "    clusterer = GMM(n_components=k).fit(clean_data)\n",
    "    print('fitted')\n",
    "    \n",
    "    # TODO: Predict the cluster for each data point\n",
    "    preds = clusterer.predict(clean_data)\n",
    "    print('predicted')\n",
    "    \n",
    "    score = silhouette_score(clean_data, preds)\n",
    "    print \"Number of clusters:\", k, \"; Score:\", score"
   ]
  },
  {
   "cell_type": "code",
   "execution_count": null,
   "metadata": {
    "collapsed": false
   },
   "outputs": [],
   "source": [
    "#Just looking on correlation of some features which potentually might correlate.\n",
    "pd.scatter_matrix(data.ix[:,['age','renta','antiguedad','segmento']], alpha = 0.3, figsize = (14,8), diagonal = 'kde');"
   ]
  }
 ],
 "metadata": {
  "anaconda-cloud": {},
  "kernelspec": {
   "display_name": "Python [default]",
   "language": "python",
   "name": "python2"
  },
  "language_info": {
   "codemirror_mode": {
    "name": "ipython",
    "version": 2
   },
   "file_extension": ".py",
   "mimetype": "text/x-python",
   "name": "python",
   "nbconvert_exporter": "python",
   "pygments_lexer": "ipython2",
   "version": "2.7.12"
  }
 },
 "nbformat": 4,
 "nbformat_minor": 1
}
