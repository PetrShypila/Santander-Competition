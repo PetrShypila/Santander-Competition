{
 "cells": [
  {
   "cell_type": "code",
   "execution_count": null,
   "metadata": {
    "collapsed": false
   },
   "outputs": [],
   "source": [
    "import pandas as pd\n",
    "import numpy as np\n",
    "import pickle\n",
    "\n",
    "pd.set_option('display.max_columns', None)"
   ]
  },
  {
   "cell_type": "code",
   "execution_count": null,
   "metadata": {
    "collapsed": false
   },
   "outputs": [],
   "source": [
    "!jupyter nbconvert --to script 1-preprocessing.ipynb"
   ]
  },
  {
   "cell_type": "code",
   "execution_count": null,
   "metadata": {
    "collapsed": false
   },
   "outputs": [],
   "source": [
    "import warnings\n",
    "\n",
    "# Disable typecast warnings\n",
    "warnings.filterwarnings('ignore')\n",
    "\n",
    "na_values=['NA', 'nan']\n",
    "\n",
    "dtype = {'tiprel_1mes': np.str, 'indrel_1mes':np.str, 'fecha_alta': np.str, 'ult_fec_cli_1t': np.str}\n",
    "\n",
    "iter_csv = pd.read_csv('../data/raw/train.csv.zip', na_values = na_values, skipinitialspace = True, \n",
    "                       iterator=True, chunksize=100000, dtype=dtype)\n",
    "\n",
    "corrupted = pd.concat([chunk for chunk in iter_csv])\n",
    "corrupted.sort_values(['ncodpers', 'fecha_dato'], inplace=True)\n",
    "corrupted.reset_index(drop=True, inplace=True)"
   ]
  },
  {
   "cell_type": "code",
   "execution_count": null,
   "metadata": {
    "collapsed": true
   },
   "outputs": [],
   "source": [
    "products = ['ind_ahor_fin_ult1', 'ind_aval_fin_ult1', 'ind_cco_fin_ult1',\n",
    "            'ind_cder_fin_ult1', 'ind_cno_fin_ult1', 'ind_ctju_fin_ult1',\n",
    "            'ind_ctma_fin_ult1', 'ind_ctop_fin_ult1', 'ind_ctpp_fin_ult1',\n",
    "            'ind_deco_fin_ult1', 'ind_deme_fin_ult1', 'ind_dela_fin_ult1',\n",
    "            'ind_ecue_fin_ult1', 'ind_fond_fin_ult1', 'ind_hip_fin_ult1',\n",
    "            'ind_plan_fin_ult1', 'ind_pres_fin_ult1', 'ind_reca_fin_ult1',\n",
    "            'ind_tjcr_fin_ult1', 'ind_valo_fin_ult1', 'ind_viv_fin_ult1',\n",
    "            'ind_nomina_ult1', 'ind_nom_pens_ult1', 'ind_recibo_ult1']"
   ]
  },
  {
   "cell_type": "code",
   "execution_count": null,
   "metadata": {
    "collapsed": false
   },
   "outputs": [],
   "source": [
    "corrupted.head(17)"
   ]
  },
  {
   "cell_type": "code",
   "execution_count": null,
   "metadata": {
    "collapsed": true
   },
   "outputs": [],
   "source": [
    "personal_products = {}\n",
    "\n",
    "# this function checks whether any product was bought in provided months a year ago.\n",
    "def month_last_year(user_history, months):  \n",
    "    active = []\n",
    "    \n",
    "    for m in months:\n",
    "        curr = '2015-0%d-28' % m\n",
    "        entry = user_history[user_history.fecha_dato == curr]\n",
    "        if len(entry) > 0:\n",
    "\n",
    "            for p in products:\n",
    "                if entry.iloc[0][p] == 1:\n",
    "                    active.append(p)\n",
    "                \n",
    "    return active\n",
    "   \n",
    "# this function collects products which where used more than {percent} of time.\n",
    "# here {percent} is a fraction from 0 to 1 inclusive. 50% == 0.5\n",
    "def popular_products(user_history, percent):\n",
    "    active = []\n",
    "\n",
    "    for p in products:\n",
    "        curr = user_history[p][user_history[p].notnull()].values\n",
    "        usage = (curr == 1).sum()/curr.size\n",
    "        if usage >= percent:\n",
    "            active.append(p)\n",
    "    \n",
    "    return active\n",
    "\n",
    "i = 0\n",
    "\n",
    "def grab_personal(user_history):\n",
    "    user_history.head()\n",
    "    global i\n",
    "\n",
    "    if i % 1000 == 0:\n",
    "        print('processing entry #%d' % i)\n",
    "    i += 1\n",
    "    \n",
    "    user_history.sort_values(['fecha_dato'], inplace=True)\n",
    "\n",
    "    potential = []\n",
    "    potential.extend(month_last_year(user_history, [6,5,7]))\n",
    "    potential.extend(popular_products(user_history, 0.5))\n",
    "\n",
    "    active_prods = user_history.iloc[-1][products]\n",
    "\n",
    "    for p in products:\n",
    "        if active_prods[p] == 1:\n",
    "            potential = [e for e in potential if e != p]\n",
    "            \n",
    "    personal_products[user_history.ix[0,'ncodpers']] = products"
   ]
  },
  {
   "cell_type": "code",
   "execution_count": null,
   "metadata": {
    "collapsed": false
   },
   "outputs": [],
   "source": [
    "corrupted.groupby(['ncodpers']).apply(grab_personal)"
   ]
  },
  {
   "cell_type": "code",
   "execution_count": null,
   "metadata": {
    "collapsed": false
   },
   "outputs": [],
   "source": [
    "with open('../data/processed/personal.pickle', 'wb') as f:\n",
    "    pickle.dump(personal_products, f)\n",
    "\n",
    "personal_products"
   ]
  },
  {
   "cell_type": "code",
   "execution_count": null,
   "metadata": {
    "collapsed": false
   },
   "outputs": [],
   "source": [
    "personal_products"
   ]
  },
  {
   "cell_type": "code",
   "execution_count": null,
   "metadata": {
    "collapsed": false
   },
   "outputs": [],
   "source": [
    "# Remove corrupted entries\n",
    "print('%d users before cleaning' % len(corrupted.ncodpers.unique()))\n",
    "corrupted = corrupted[corrupted.age.notnull()]\n",
    "corrupted = corrupted[corrupted.sexo.notnull()]\n",
    "print('%d users after cleaning' % len(corrupted.ncodpers.unique()))\n",
    "corrupted.drop('nomprov', axis=1, inplace=True) # Drop province name. It is 100% useless"
   ]
  },
  {
   "cell_type": "code",
   "execution_count": null,
   "metadata": {
    "collapsed": false
   },
   "outputs": [],
   "source": [
    "corrupted.sort_values(['ncodpers', 'fecha_dato'], inplace=True)\n",
    "corrupted.drop_duplicates(['ncodpers'], keep='last', inplace=True)\n",
    "corrupted.reset_index(drop=True, inplace=True)\n",
    "X_train = corrupted"
   ]
  },
  {
   "cell_type": "code",
   "execution_count": null,
   "metadata": {
    "collapsed": false,
    "scrolled": true
   },
   "outputs": [],
   "source": [
    "X_train.head()"
   ]
  },
  {
   "cell_type": "code",
   "execution_count": null,
   "metadata": {
    "collapsed": false
   },
   "outputs": [],
   "source": [
    "def sub_code_and_toint(text):\n",
    "    return 0.0 if pd.isnull(text) else float(str(text)[1:2])\n",
    "    \n",
    "def preprocess_features(X):\n",
    "    # \"converting dates to timestamps\"\n",
    "    X.fecha_alta = X.fecha_alta.astype('int64')//1e9\n",
    "    X.fecha_alta[X.fecha_alta < 0] = 0\n",
    "\n",
    "    X.ult_fec_cli_1t = X.ult_fec_cli_1t.astype('int64')//1e9\n",
    "    X.ult_fec_cli_1t[X.ult_fec_cli_1t < 0] = 0\n",
    "\n",
    "    # \"ind_empleado\"\n",
    "    ind_empleado = pd.get_dummies(X.ind_empleado, prefix = 'ind_empleado')\n",
    "    X = pd.concat([X, ind_empleado], axis=1)\n",
    "\n",
    "    # \"tiprel_1mes\"\n",
    "    tiprel_1mes = pd.get_dummies(X.tiprel_1mes, prefix = 'tiprel_1mes')\n",
    "    X = pd.concat([X, tiprel_1mes], axis=1)        \n",
    "    \n",
    "    X.segmento = X.segmento.apply(sub_code_and_toint)\n",
    "    \n",
    "    X.sexo.replace(to_replace=['V', 'H'], value=[1.0, 0.0], inplace=True)\n",
    "    X.renta.replace(to_replace=[float('nan')], value=[0.], inplace=True)\n",
    "    X.indrel.replace(to_replace=[99.], value=[0.], inplace=True)\n",
    "    X.indext.replace(to_replace=['S', 'N'], value=[1.0, 0.0], inplace=True)\n",
    "    X.indresi.replace(to_replace=['S', 'N'], value=[1.0, 0.0], inplace=True)    \n",
    "    X.indfall.replace(to_replace=['S','N'], value=[1.,0.], inplace=True)\n",
    "    X.cod_prov.replace(to_replace=[float('nan')], value=[0.], inplace=True)\n",
    "    X.indrel_1mes.replace(to_replace=['P', float('nan')], value=[5., 6.], inplace=True)\n",
    "    X.canal_entrada.replace(to_replace=[None], value=['nan'], inplace=True)\n",
    "    \n",
    "    X.indrel_1mes = pd.to_numeric(X.indrel_1mes)\n",
    "    \n",
    "    columns_to_drop = ['conyuemp', 'tipodom', 'fecha_dato', 'ind_empleado', 'tiprel_1mes']\n",
    "    X.drop(columns_to_drop, axis=1, inplace=True) \n",
    "    \n",
    "    return X"
   ]
  },
  {
   "cell_type": "code",
   "execution_count": null,
   "metadata": {
    "collapsed": false
   },
   "outputs": [],
   "source": [
    "X_train = preprocess_features(X_train)\n",
    "X_train.head()"
   ]
  },
  {
   "cell_type": "markdown",
   "metadata": {
    "collapsed": false
   },
   "source": [
    "### coordinates feature\n",
    "Load external dictionary of coordinates and replace code with coordinates in dataset"
   ]
  },
  {
   "cell_type": "code",
   "execution_count": null,
   "metadata": {
    "collapsed": false
   },
   "outputs": [],
   "source": [
    "countries = pd.read_csv('../data/external/countries.csv', header=None)\n",
    "countries.columns=['pais_residencia', 'lat', 'lon']\n",
    "\n",
    "X_train = X_train.merge(countries, on='pais_residencia')\n",
    "X_train.sort_values(['ncodpers'], inplace=True)\n",
    "X_train.reset_index(drop=True, inplace=True)\n",
    "\n",
    "new_cols_order = ['ncodpers', 'pais_residencia', 'sexo', 'age', 'lat', 'lon', 'fecha_alta', 'ind_nuevo', 'antiguedad', 'indrel', 'ind_empleado_A', 'ind_empleado_B', 'ind_empleado_F', 'ind_empleado_N', 'ind_empleado_S', 'ult_fec_cli_1t', 'indrel_1mes', 'tiprel_1mes_A', 'tiprel_1mes_I', 'tiprel_1mes_P', 'tiprel_1mes_R', 'indresi', 'indext', 'indfall', 'cod_prov', 'ind_actividad_cliente', 'renta', 'segmento', 'ind_ahor_fin_ult1', 'ind_aval_fin_ult1', 'ind_cco_fin_ult1', 'ind_cder_fin_ult1', 'ind_cno_fin_ult1', 'ind_ctju_fin_ult1', 'ind_ctma_fin_ult1', 'ind_ctop_fin_ult1', 'ind_ctpp_fin_ult1', 'ind_deco_fin_ult1', 'ind_deme_fin_ult1', 'ind_dela_fin_ult1', 'ind_ecue_fin_ult1', 'ind_fond_fin_ult1', 'ind_hip_fin_ult1', 'ind_plan_fin_ult1', 'ind_pres_fin_ult1', 'ind_reca_fin_ult1', 'ind_tjcr_fin_ult1', 'ind_valo_fin_ult1', 'ind_viv_fin_ult1', 'ind_nomina_ult1', 'ind_nom_pens_ult1', 'ind_recibo_ult1']\n",
    "X_train = X_train[new_cols_order]"
   ]
  },
  {
   "cell_type": "code",
   "execution_count": null,
   "metadata": {
    "collapsed": false
   },
   "outputs": [],
   "source": [
    "X_train.head()"
   ]
  },
  {
   "cell_type": "code",
   "execution_count": null,
   "metadata": {
    "collapsed": false
   },
   "outputs": [],
   "source": [
    "X_train.to_csv('../data/processed/train-processed.csv.gz', index=False, compression='gzip')"
   ]
  }
 ],
 "metadata": {
  "anaconda-cloud": {},
  "kernelspec": {
   "display_name": "Python [conda root]",
   "language": "python",
   "name": "conda-root-py"
  },
  "language_info": {
   "codemirror_mode": {
    "name": "ipython",
    "version": 3
   },
   "file_extension": ".py",
   "mimetype": "text/x-python",
   "name": "python",
   "nbconvert_exporter": "python",
   "pygments_lexer": "ipython3",
   "version": "3.5.2"
  }
 },
 "nbformat": 4,
 "nbformat_minor": 1
}
