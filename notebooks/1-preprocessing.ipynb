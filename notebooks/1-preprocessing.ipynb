{
 "cells": [
  {
   "cell_type": "code",
   "execution_count": null,
   "metadata": {
    "collapsed": false
   },
   "outputs": [],
   "source": [
    "#!jupyter nbconvert --to script 1-preprocessing.ipynb"
   ]
  },
  {
   "cell_type": "code",
   "execution_count": null,
   "metadata": {
    "collapsed": false
   },
   "outputs": [],
   "source": [
    "from collections import defaultdict\n",
    "import pandas as pd\n",
    "import numpy as np\n",
    "import pickle\n",
    "from os import path\n",
    "import matplotlib.pyplot as plt\n",
    "%matplotlib inline\n",
    "\n",
    "pd.set_option('display.max_columns', None)"
   ]
  },
  {
   "cell_type": "code",
   "execution_count": null,
   "metadata": {
    "collapsed": false
   },
   "outputs": [],
   "source": [
    "import warnings\n",
    "\n",
    "# Disable typecast warnings\n",
    "warnings.filterwarnings('ignore')\n",
    "\n",
    "na_values=['NA', 'nan']\n",
    "\n",
    "dtype = {'tiprel_1mes':np.str, 'indrel_1mes':np.str, 'fecha_alta':np.str, 'fecha_dato':np.str}\n",
    "\n",
    "iter_csv = pd.read_csv('../data/raw/train.csv.zip', na_values = na_values, skipinitialspace = True, \n",
    "                       iterator=True, chunksize=100000, dtype=dtype)\n",
    "\n",
    "df = pd.concat([chunk for chunk in iter_csv], ignore_index=True)"
   ]
  },
  {
   "cell_type": "code",
   "execution_count": null,
   "metadata": {
    "collapsed": true
   },
   "outputs": [],
   "source": [
    "products = ['ind_ahor_fin_ult1', 'ind_aval_fin_ult1', 'ind_cco_fin_ult1',\n",
    "            'ind_cder_fin_ult1', 'ind_cno_fin_ult1', 'ind_ctju_fin_ult1',\n",
    "            'ind_ctma_fin_ult1', 'ind_ctop_fin_ult1', 'ind_ctpp_fin_ult1',\n",
    "            'ind_deco_fin_ult1', 'ind_deme_fin_ult1', 'ind_dela_fin_ult1',\n",
    "            'ind_ecue_fin_ult1', 'ind_fond_fin_ult1', 'ind_hip_fin_ult1',\n",
    "            'ind_plan_fin_ult1', 'ind_pres_fin_ult1', 'ind_reca_fin_ult1',\n",
    "            'ind_tjcr_fin_ult1', 'ind_valo_fin_ult1', 'ind_viv_fin_ult1',\n",
    "            'ind_nomina_ult1', 'ind_nom_pens_ult1', 'ind_recibo_ult1']"
   ]
  },
  {
   "cell_type": "code",
   "execution_count": null,
   "metadata": {
    "collapsed": false
   },
   "outputs": [],
   "source": [
    "segm_rent = defaultdict(set)\n",
    "df.groupby(['segmento']).apply(lambda x: segm_rent[x.segmento.values[0]].add(x.renta.median()))\n",
    "\n",
    "keys = []\n",
    "vals = []\n",
    "\n",
    "for k, v in segm_rent.items():\n",
    "    keys.append(k)\n",
    "    vals.append(list(v)[0])\n",
    "    \n",
    "fig, ax = plt.subplots()\n",
    "ind = np.arange(len(keys))  # the x locations for the groups\n",
    "\n",
    "ax.bar(ind, vals, align='center')\n",
    "ax.set_xticks(ind)\n",
    "ax.set_xticklabels(keys)\n",
    "plt.show()"
   ]
  },
  {
   "cell_type": "code",
   "execution_count": null,
   "metadata": {
    "collapsed": false,
    "scrolled": true
   },
   "outputs": [],
   "source": [
    "prov_rent = defaultdict(set)\n",
    "df.groupby(['nomprov']).apply(lambda x: prov_rent[x.nomprov.values[0]].add(x.renta.median()))\n",
    "\n",
    "keys = []\n",
    "vals = []\n",
    "\n",
    "for k, v in prov_rent.items():\n",
    "    keys.append(k)\n",
    "    vals.append(list(v)[0])\n",
    "    \n",
    "fig, ax = plt.subplots(figsize=(20, 15))\n",
    "ind = np.arange(len(keys))  # the x locations for the groups\n",
    "\n",
    "ax.bar(ind, vals, align='center')\n",
    "ax.set_xticks(ind)\n",
    "ax.set_xticklabels(keys, rotation='vertical')\n",
    "plt.show()"
   ]
  },
  {
   "cell_type": "code",
   "execution_count": null,
   "metadata": {
    "collapsed": false
   },
   "outputs": [],
   "source": [
    "grouped = df.groupby([\"nomprov\", \"segmento\"]).agg({\"renta\":lambda x: x.median(skipna=True)})"
   ]
  },
  {
   "cell_type": "code",
   "execution_count": null,
   "metadata": {
    "collapsed": false
   },
   "outputs": [],
   "source": [
    "grouped.head()"
   ]
  },
  {
   "cell_type": "code",
   "execution_count": null,
   "metadata": {
    "collapsed": false
   },
   "outputs": [],
   "source": [
    "for (prov, segm) in grouped.index.get_values():\n",
    "    df.ix[(df.renta.isnull()) & (df.nomprov == prov) & (df.segmento == segm), 'renta'] = grouped.loc[prov, segm].values[0]\n",
    "    df.ix[(df.renta.isnull()) & (df.nomprov == prov), 'renta'] = grouped.renta.loc[prov, :].mean()\n",
    "    df.ix[(df.renta.isnull()) & (df.segmento == segm), 'renta'] = grouped.renta.loc[grouped.index.get_level_values('segmento') == segm].mean()\n",
    "    \n",
    "df.ix[df.renta.isnull(), 'renta'] = df.renta.mean()"
   ]
  },
  {
   "cell_type": "code",
   "execution_count": null,
   "metadata": {
    "collapsed": false
   },
   "outputs": [],
   "source": [
    "df = df[df.age.notnull()]\n",
    "df = df[df.sexo.notnull()]\n",
    "df = df[df.fecha_dato.isin(['2015-05-28', '2015-06-28', '2016-05-28', '2016-06-28'])]\n",
    "df.sort_values(['ncodpers', 'fecha_dato'], inplace=True)\n",
    "df.reset_index(drop=True, inplace=True)"
   ]
  },
  {
   "cell_type": "code",
   "execution_count": null,
   "metadata": {
    "collapsed": false
   },
   "outputs": [],
   "source": [
    "def sub_code_and_toint(text):\n",
    "    return 0.0 if pd.isnull(text) else float(str(text)[1:2])\n",
    "    \n",
    "def preprocess_features(X):    \n",
    "    columns_to_drop = ['fecha_alta', 'ult_fec_cli_1t', 'conyuemp',\n",
    "                       'canal_entrada', 'indfall', 'tipodom', 'nomprov']\n",
    "    \n",
    "    dummies = ['ind_empleado', 'indrel_1mes', 'indrel_1mes', 'tiprel_1mes', 'segmento']\n",
    "    \n",
    "    X.drop(columns_to_drop, axis=1, inplace=True) \n",
    "\n",
    "    # sexo\n",
    "    X.sexo.replace(to_replace=['V', 'H'], value=[1.0, 0.0], inplace=True)\n",
    "    \n",
    "    # ind_empleado\n",
    "    ind_empleado = pd.get_dummies(X.ind_empleado, prefix = 'ind_empleado')\n",
    "    X = pd.concat([X, ind_empleado], axis=1)\n",
    "    \n",
    "    # ind_nuevo\n",
    "    X.ix[(X.ind_nuevo.isnull()) & (X.antiguedad.isnull()), 'ind_nuevo'] = 0\n",
    "    X.ix[(X.ind_nuevo.isnull()) & (X.antiguedad < 6), 'ind_nuevo'] = 1\n",
    "    X.ix[(X.ind_nuevo.isnull()) & (X.antiguedad >= 6), 'ind_nuevo'] = 0\n",
    "    \n",
    "    # indrel\n",
    "    X.indrel.replace(to_replace=[99.], value=[0.], inplace=True)\n",
    "    \n",
    "    # indrel_1mes\n",
    "    X.indrel_1mes.replace(to_replace=['P', float('nan')], value=[5., 6.], inplace=True)\n",
    "    X.indrel_1mes = X.indrel_1mes.astype(np.float16)\n",
    "    indrel_1mes = pd.get_dummies(X.indrel_1mes, prefix = 'indrel_1mes')\n",
    "    X = pd.concat([X, indrel_1mes], axis=1)   \n",
    "    \n",
    "    # tiprel_1mes\n",
    "    X.tiprel_1mes.replace(to_replace=[float('nan')], value=['N'], inplace=True)\n",
    "    tiprel_1mes = pd.get_dummies(X.tiprel_1mes, prefix = 'tiprel_1mes')\n",
    "    X = pd.concat([X, tiprel_1mes], axis=1)   \n",
    "    \n",
    "    # indresi\n",
    "    X.indresi.replace(to_replace=['S', 'N'], value=[1.0, 0.0], inplace=True) \n",
    "    \n",
    "    # indext\n",
    "    X.indext.replace(to_replace=['S', 'N'], value=[1.0, 0.0], inplace=True) \n",
    "    \n",
    "    # cod_prov\n",
    "    X.cod_prov.replace(to_replace=[float('nan')], value=[0.], inplace=True)\n",
    "    \n",
    "    # segmento\n",
    "    segmento = pd.get_dummies(X.segmento, prefix = 'segmento')\n",
    "    X = pd.concat([X, segmento], axis=1)  \n",
    "    \n",
    "    X.drop(dummies, axis=1, inplace=True)   \n",
    "    \n",
    "    X.ix[X[products].isnull().any(axis=1)] = 0\n",
    "    \n",
    "    return X"
   ]
  },
  {
   "cell_type": "code",
   "execution_count": null,
   "metadata": {
    "collapsed": false
   },
   "outputs": [],
   "source": [
    "df = preprocess_features(df)"
   ]
  },
  {
   "cell_type": "code",
   "execution_count": null,
   "metadata": {
    "collapsed": false
   },
   "outputs": [],
   "source": [
    "df.drop(['pais_residencia'], axis=1, inplace=True)\n",
    "df.head()"
   ]
  },
  {
   "cell_type": "code",
   "execution_count": null,
   "metadata": {
    "collapsed": false
   },
   "outputs": [],
   "source": [
    "df.to_csv('../data/processed/train-processed.csv.gz', index=False, compression='gzip')"
   ]
  }
 ],
 "metadata": {
  "anaconda-cloud": {},
  "kernelspec": {
   "display_name": "Python [conda root]",
   "language": "python",
   "name": "conda-root-py"
  },
  "language_info": {
   "codemirror_mode": {
    "name": "ipython",
    "version": 3
   },
   "file_extension": ".py",
   "mimetype": "text/x-python",
   "name": "python",
   "nbconvert_exporter": "python",
   "pygments_lexer": "ipython3",
   "version": "3.5.2"
  }
 },
 "nbformat": 4,
 "nbformat_minor": 0
}
