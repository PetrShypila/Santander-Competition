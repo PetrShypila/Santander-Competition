{
 "cells": [
  {
   "cell_type": "code",
   "execution_count": null,
   "metadata": {
    "collapsed": false
   },
   "outputs": [],
   "source": [
    "import pandas as pd\n",
    "import numpy as np\n",
    "pd.set_option('display.max_columns', None)"
   ]
  },
  {
   "cell_type": "code",
   "execution_count": null,
   "metadata": {
    "collapsed": false
   },
   "outputs": [],
   "source": [
    "na_values=['NA', 'nan']\n",
    "\n",
    "# Store labels as string because later we will concatinate them\n",
    "dtype = {'fecha_dato':np.str, 'fecha_alta':np.str}\n",
    "\n",
    "iter_csv = pd.read_csv('../data/raw/train.csv.zip', na_values = na_values, skipinitialspace = True, \n",
    "                       iterator=True, chunksize=100000, dtype=dtype)\n",
    "\n",
    "corrupted = pd.concat([chunk for chunk in iter_csv])"
   ]
  },
  {
   "cell_type": "code",
   "execution_count": null,
   "metadata": {
    "collapsed": false
   },
   "outputs": [],
   "source": [
    "# Remove corrupted entries\n",
    "print('%d users before cleaning' % len(corrupted.ncodpers.unique()))\n",
    "corrupted = corrupted[corrupted.age.notnull()]\n",
    "corrupted = corrupted[corrupted.sexo.notnull()]\n",
    "print('%d users after cleaning' % len(corrupted.ncodpers.unique()))\n",
    "corrupted.drop('nomprov', axis=1, inplace=True) # Drop province name. It is 100% useless"
   ]
  },
  {
   "cell_type": "code",
   "execution_count": null,
   "metadata": {
    "collapsed": false
   },
   "outputs": [],
   "source": [
    "corrupted.sort_values(['ncodpers', 'fecha_dato'], inplace=True)\n",
    "corrupted.drop_duplicates(['ncodpers'], keep='last', inplace=True)\n",
    "corrupted.reset_index(drop=True, inplace=True)\n",
    "X_train = corrupted"
   ]
  },
  {
   "cell_type": "code",
   "execution_count": null,
   "metadata": {
    "collapsed": false,
    "scrolled": true
   },
   "outputs": [],
   "source": [
    "X_train.head()"
   ]
  },
  {
   "cell_type": "code",
   "execution_count": null,
   "metadata": {
    "collapsed": false
   },
   "outputs": [],
   "source": [
    "def sub_code_and_toint(text):\n",
    "    return 0.0 if pd.isnull(text) else float(str(text)[1:2])\n",
    "    \n",
    "def preprocess_features(X):\n",
    "    X.ind_empleado.replace(to_replace=[1.0, 99.0], value=[1.0, 0.0], inplace=True)\n",
    "    \n",
    "    X.indext.replace(to_replace=['S', 'N'], value=[1.0, 0.0], inplace=True)\n",
    "    X.indresi.replace(to_replace=['S', 'N'], value=[1.0, 0.0], inplace=True)\n",
    "    \n",
    "    X.sexo.replace(to_replace=['V', 'H'], value=[1.0, 0.0], inplace=True)\n",
    "    \n",
    "    X.segmento = X.segmento.apply(sub_code_and_toint)"
   ]
  },
  {
   "cell_type": "code",
   "execution_count": null,
   "metadata": {
    "collapsed": false
   },
   "outputs": [],
   "source": [
    "preprocess_features(X_train)\n",
    "X_train.head()"
   ]
  },
  {
   "cell_type": "code",
   "execution_count": null,
   "metadata": {
    "collapsed": false
   },
   "outputs": [],
   "source": [
    "X_train.drop(['fecha_dato'], axis=1, inplace=True)\n",
    "X_train.head()"
   ]
  },
  {
   "cell_type": "code",
   "execution_count": null,
   "metadata": {
    "collapsed": false
   },
   "outputs": [],
   "source": [
    "X_train.to_csv('../data/processed/train-processed.csv.gz', index=False, compression='gzip')"
   ]
  }
 ],
 "metadata": {
  "anaconda-cloud": {},
  "kernelspec": {
   "display_name": "Python [conda root]",
   "language": "python",
   "name": "conda-root-py"
  },
  "language_info": {
   "codemirror_mode": {
    "name": "ipython",
    "version": 3
   },
   "file_extension": ".py",
   "mimetype": "text/x-python",
   "name": "python",
   "nbconvert_exporter": "python",
   "pygments_lexer": "ipython3",
   "version": "3.5.2"
  }
 },
 "nbformat": 4,
 "nbformat_minor": 1
}
