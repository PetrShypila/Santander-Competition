{
 "cells": [
  {
   "cell_type": "code",
   "execution_count": 1,
   "metadata": {
    "collapsed": true
   },
   "outputs": [],
   "source": [
    "import pickle\n",
    "import numpy as np\n",
    "import pandas as pd\n",
    "from os import path\n",
    "\n",
    "from collections import defaultdict, Counter\n",
    "from sklearn.metrics import roc_auc_score\n",
    "from sklearn.linear_model import LogisticRegression\n",
    "\n",
    "%matplotlib inline\n",
    "pd.set_option('display.max_columns', None)"
   ]
  },
  {
   "cell_type": "code",
   "execution_count": 2,
   "metadata": {
    "collapsed": true
   },
   "outputs": [],
   "source": [
    "products = ['ind_ahor_fin_ult1', 'ind_aval_fin_ult1', 'ind_cco_fin_ult1',\n",
    "            'ind_cder_fin_ult1', 'ind_cno_fin_ult1', 'ind_ctju_fin_ult1',\n",
    "            'ind_ctma_fin_ult1', 'ind_ctop_fin_ult1', 'ind_ctpp_fin_ult1',\n",
    "            'ind_deco_fin_ult1', 'ind_deme_fin_ult1', 'ind_dela_fin_ult1',\n",
    "            'ind_ecue_fin_ult1', 'ind_fond_fin_ult1', 'ind_hip_fin_ult1',\n",
    "            'ind_plan_fin_ult1', 'ind_pres_fin_ult1', 'ind_reca_fin_ult1',\n",
    "            'ind_tjcr_fin_ult1', 'ind_valo_fin_ult1', 'ind_viv_fin_ult1',\n",
    "            'ind_nomina_ult1', 'ind_nom_pens_ult1', 'ind_recibo_ult1']"
   ]
  },
  {
   "cell_type": "code",
   "execution_count": 3,
   "metadata": {
    "collapsed": false
   },
   "outputs": [],
   "source": [
    "df = pd.read_csv('../data/processed/train-normalized.csv.gz', skipinitialspace = True)\n",
    "test = pd.read_csv('../data/raw/test.csv.zip', skipinitialspace = True, usecols=['ncodpers'])"
   ]
  },
  {
   "cell_type": "code",
   "execution_count": 4,
   "metadata": {
    "collapsed": false
   },
   "outputs": [],
   "source": [
    "test = test.merge(df, how='left', on='ncodpers', copy=False, sort=True)"
   ]
  },
  {
   "cell_type": "code",
   "execution_count": 5,
   "metadata": {
    "collapsed": false
   },
   "outputs": [
    {
     "name": "stdout",
     "output_type": "stream",
     "text": [
      "File already exists. Start loading...\n",
      "Done!\n",
      "Recommendations length 956645\n"
     ]
    }
   ],
   "source": [
    "def most_popular():\n",
    "    return ['ind_cco_fin_ult1', 'ind_recibo_ult1', 'ind_ctop_fin_ult1', 'ind_cno_fin_ult1', 'ind_ecue_fin_ult1', 'ind_nom_pens_ult1', 'ind_nomina_ult1']\n",
    "\n",
    "recommendations = defaultdict(most_popular)\n",
    "\n",
    "PERS_PRODS = '../data/processed/personal.pickle'\n",
    "\n",
    "if path.isfile(PERS_PRODS):\n",
    "    print('File already exists. Start loading...')\n",
    "    with open(PERS_PRODS, 'rb') as f:\n",
    "        recommendations.update(pickle.load(f))\n",
    "    print('Done!')\n",
    "else:\n",
    "    print('Pickle file is not presented. Using defaultdict.')\n",
    "    recommendations = defaultdict(list)\n",
    "    \n",
    "print('Recommendations length', len(recommendations))"
   ]
  },
  {
   "cell_type": "code",
   "execution_count": 6,
   "metadata": {
    "collapsed": false
   },
   "outputs": [],
   "source": [
    "cluster_products = defaultdict(list)\n",
    "\n",
    "for c in df.cluster.unique():\n",
    "    # Collect ids of each cluster\n",
    "    ids = df.ncodpers[df.cluster == c].values\n",
    "    all_products = []\n",
    "    \n",
    "    for id_ in ids:\n",
    "        [all_products.append(p) for p in recommendations[id_]]\n",
    "        \n",
    "    cluster_products[c] = [tup[0] for tup in sorted(Counter(all_products).items(), key=lambda tup: tup[1], reverse=True)]"
   ]
  },
  {
   "cell_type": "code",
   "execution_count": 7,
   "metadata": {
    "collapsed": false
   },
   "outputs": [],
   "source": [
    "result = {}\n",
    "\n",
    "for idx, row in test.iterrows():\n",
    "    cluster = row.cluster\n",
    "    prods = most_popular() if cluster is None else recommendations[row.ncodpers]\n",
    "    \n",
    "    if len(prods) < 7:\n",
    "        cluster = row.cluster\n",
    "        for p in cluster_products[cluster]:\n",
    "            if (p not in prods) and (row[p] != 1) and (len(prods) < 7):\n",
    "                prods.append(p)\n",
    "                if len(prods) == 7: break\n",
    "                    \n",
    "    result[row.ncodpers] = ' '.join(prods[0:7])"
   ]
  },
  {
   "cell_type": "code",
   "execution_count": 19,
   "metadata": {
    "collapsed": false
   },
   "outputs": [],
   "source": [
    "predictions = pd.DataFrame(list(result.items()), columns=['ncodpers', 'added_products'], dtype=np.int32)"
   ]
  },
  {
   "cell_type": "code",
   "execution_count": 18,
   "metadata": {
    "collapsed": true
   },
   "outputs": [],
   "source": [
    "predictions.to_csv('../data/predicted.csv.gz', index=False, compression='gzip')"
   ]
  }
 ],
 "metadata": {
  "anaconda-cloud": {},
  "kernelspec": {
   "display_name": "Python [conda root]",
   "language": "python",
   "name": "conda-root-py"
  },
  "language_info": {
   "codemirror_mode": {
    "name": "ipython",
    "version": 3
   },
   "file_extension": ".py",
   "mimetype": "text/x-python",
   "name": "python",
   "nbconvert_exporter": "python",
   "pygments_lexer": "ipython3",
   "version": "3.5.2"
  }
 },
 "nbformat": 4,
 "nbformat_minor": 1
}
