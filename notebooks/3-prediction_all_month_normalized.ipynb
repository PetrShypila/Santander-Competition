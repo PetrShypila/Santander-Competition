{
 "cells": [
  {
   "cell_type": "code",
   "execution_count": 9,
   "metadata": {
    "collapsed": false
   },
   "outputs": [],
   "source": [
    "import pandas as pd\n",
    "import numpy as np"
   ]
  },
  {
   "cell_type": "code",
   "execution_count": 3,
   "metadata": {
    "collapsed": false
   },
   "outputs": [],
   "source": [
    "data = pd.read_csv('../data/processed/train-normalized.csv.gz', skipinitialspace = True)\n",
    "\n"
   ]
  },
  {
   "cell_type": "code",
   "execution_count": 11,
   "metadata": {
    "collapsed": false
   },
   "outputs": [
    {
     "data": {
      "text/html": [
       "<div>\n",
       "<table border=\"1\" class=\"dataframe\">\n",
       "  <thead>\n",
       "    <tr style=\"text-align: right;\">\n",
       "      <th></th>\n",
       "      <th>ncodpers</th>\n",
       "      <th>sexo</th>\n",
       "      <th>age</th>\n",
       "      <th>fecha_alta</th>\n",
       "      <th>ind_nuevo</th>\n",
       "      <th>antiguedad</th>\n",
       "      <th>indrel</th>\n",
       "      <th>ult_fec_cli_1t</th>\n",
       "      <th>indrel_1mes</th>\n",
       "      <th>indresi</th>\n",
       "      <th>...</th>\n",
       "      <th>ind_empleado_B</th>\n",
       "      <th>ind_empleado_F</th>\n",
       "      <th>ind_empleado_N</th>\n",
       "      <th>ind_empleado_S</th>\n",
       "      <th>tiprel_1mes_A</th>\n",
       "      <th>tiprel_1mes_I</th>\n",
       "      <th>tiprel_1mes_P</th>\n",
       "      <th>tiprel_1mes_R</th>\n",
       "      <th>lat</th>\n",
       "      <th>lon</th>\n",
       "    </tr>\n",
       "  </thead>\n",
       "  <tbody>\n",
       "    <tr>\n",
       "      <th>931181</th>\n",
       "      <td>1166765</td>\n",
       "      <td>1.0</td>\n",
       "      <td>0.123457</td>\n",
       "      <td>0.869203</td>\n",
       "      <td>0.0</td>\n",
       "      <td>0.999777</td>\n",
       "      <td>1.0</td>\n",
       "      <td>0.0</td>\n",
       "      <td>0.0</td>\n",
       "      <td>1.0</td>\n",
       "      <td>...</td>\n",
       "      <td>0.0</td>\n",
       "      <td>0.0</td>\n",
       "      <td>1.0</td>\n",
       "      <td>0.0</td>\n",
       "      <td>0.0</td>\n",
       "      <td>1.0</td>\n",
       "      <td>0.0</td>\n",
       "      <td>0.0</td>\n",
       "      <td>0.764151</td>\n",
       "      <td>0.355072</td>\n",
       "    </tr>\n",
       "    <tr>\n",
       "      <th>931182</th>\n",
       "      <td>1166764</td>\n",
       "      <td>1.0</td>\n",
       "      <td>0.129630</td>\n",
       "      <td>0.869203</td>\n",
       "      <td>0.0</td>\n",
       "      <td>0.999777</td>\n",
       "      <td>1.0</td>\n",
       "      <td>0.0</td>\n",
       "      <td>0.0</td>\n",
       "      <td>1.0</td>\n",
       "      <td>...</td>\n",
       "      <td>0.0</td>\n",
       "      <td>0.0</td>\n",
       "      <td>1.0</td>\n",
       "      <td>0.0</td>\n",
       "      <td>0.0</td>\n",
       "      <td>1.0</td>\n",
       "      <td>0.0</td>\n",
       "      <td>0.0</td>\n",
       "      <td>0.764151</td>\n",
       "      <td>0.355072</td>\n",
       "    </tr>\n",
       "    <tr>\n",
       "      <th>931183</th>\n",
       "      <td>1166763</td>\n",
       "      <td>0.0</td>\n",
       "      <td>0.277778</td>\n",
       "      <td>0.869203</td>\n",
       "      <td>0.0</td>\n",
       "      <td>0.999777</td>\n",
       "      <td>1.0</td>\n",
       "      <td>0.0</td>\n",
       "      <td>0.0</td>\n",
       "      <td>1.0</td>\n",
       "      <td>...</td>\n",
       "      <td>0.0</td>\n",
       "      <td>0.0</td>\n",
       "      <td>1.0</td>\n",
       "      <td>0.0</td>\n",
       "      <td>1.0</td>\n",
       "      <td>0.0</td>\n",
       "      <td>0.0</td>\n",
       "      <td>0.0</td>\n",
       "      <td>0.764151</td>\n",
       "      <td>0.355072</td>\n",
       "    </tr>\n",
       "    <tr>\n",
       "      <th>931184</th>\n",
       "      <td>1166789</td>\n",
       "      <td>0.0</td>\n",
       "      <td>0.123457</td>\n",
       "      <td>0.869203</td>\n",
       "      <td>0.0</td>\n",
       "      <td>0.999777</td>\n",
       "      <td>1.0</td>\n",
       "      <td>0.0</td>\n",
       "      <td>0.0</td>\n",
       "      <td>1.0</td>\n",
       "      <td>...</td>\n",
       "      <td>0.0</td>\n",
       "      <td>0.0</td>\n",
       "      <td>1.0</td>\n",
       "      <td>0.0</td>\n",
       "      <td>0.0</td>\n",
       "      <td>1.0</td>\n",
       "      <td>0.0</td>\n",
       "      <td>0.0</td>\n",
       "      <td>0.764151</td>\n",
       "      <td>0.355072</td>\n",
       "    </tr>\n",
       "    <tr>\n",
       "      <th>931185</th>\n",
       "      <td>1550586</td>\n",
       "      <td>0.0</td>\n",
       "      <td>0.216049</td>\n",
       "      <td>0.997694</td>\n",
       "      <td>1.0</td>\n",
       "      <td>0.999744</td>\n",
       "      <td>1.0</td>\n",
       "      <td>0.0</td>\n",
       "      <td>1.0</td>\n",
       "      <td>1.0</td>\n",
       "      <td>...</td>\n",
       "      <td>0.0</td>\n",
       "      <td>0.0</td>\n",
       "      <td>1.0</td>\n",
       "      <td>0.0</td>\n",
       "      <td>0.0</td>\n",
       "      <td>0.0</td>\n",
       "      <td>0.0</td>\n",
       "      <td>0.0</td>\n",
       "      <td>0.764151</td>\n",
       "      <td>0.355072</td>\n",
       "    </tr>\n",
       "  </tbody>\n",
       "</table>\n",
       "<p>5 rows × 51 columns</p>\n",
       "</div>"
      ],
      "text/plain": [
       "        ncodpers  sexo       age  fecha_alta  ind_nuevo  antiguedad  indrel  \\\n",
       "931181   1166765   1.0  0.123457    0.869203        0.0    0.999777     1.0   \n",
       "931182   1166764   1.0  0.129630    0.869203        0.0    0.999777     1.0   \n",
       "931183   1166763   0.0  0.277778    0.869203        0.0    0.999777     1.0   \n",
       "931184   1166789   0.0  0.123457    0.869203        0.0    0.999777     1.0   \n",
       "931185   1550586   0.0  0.216049    0.997694        1.0    0.999744     1.0   \n",
       "\n",
       "        ult_fec_cli_1t  indrel_1mes  indresi    ...     ind_empleado_B  \\\n",
       "931181             0.0          0.0      1.0    ...                0.0   \n",
       "931182             0.0          0.0      1.0    ...                0.0   \n",
       "931183             0.0          0.0      1.0    ...                0.0   \n",
       "931184             0.0          0.0      1.0    ...                0.0   \n",
       "931185             0.0          1.0      1.0    ...                0.0   \n",
       "\n",
       "        ind_empleado_F  ind_empleado_N  ind_empleado_S  tiprel_1mes_A  \\\n",
       "931181             0.0             1.0             0.0            0.0   \n",
       "931182             0.0             1.0             0.0            0.0   \n",
       "931183             0.0             1.0             0.0            1.0   \n",
       "931184             0.0             1.0             0.0            0.0   \n",
       "931185             0.0             1.0             0.0            0.0   \n",
       "\n",
       "        tiprel_1mes_I  tiprel_1mes_P  tiprel_1mes_R       lat       lon  \n",
       "931181            1.0            0.0            0.0  0.764151  0.355072  \n",
       "931182            1.0            0.0            0.0  0.764151  0.355072  \n",
       "931183            0.0            0.0            0.0  0.764151  0.355072  \n",
       "931184            1.0            0.0            0.0  0.764151  0.355072  \n",
       "931185            0.0            0.0            0.0  0.764151  0.355072  \n",
       "\n",
       "[5 rows x 51 columns]"
      ]
     },
     "execution_count": 11,
     "metadata": {},
     "output_type": "execute_result"
    }
   ],
   "source": [
    "data.tail()"
   ]
  },
  {
   "cell_type": "code",
   "execution_count": 13,
   "metadata": {
    "collapsed": true
   },
   "outputs": [],
   "source": [
    "no_id = data.drop('ncodpers', axis=1)"
   ]
  },
  {
   "cell_type": "code",
   "execution_count": 16,
   "metadata": {
    "collapsed": false
   },
   "outputs": [
    {
     "data": {
      "text/plain": [
       "(931186, 50)"
      ]
     },
     "execution_count": 16,
     "metadata": {},
     "output_type": "execute_result"
    }
   ],
   "source": [
    "U, S, V = np.linalg.svd()"
   ]
  }
 ],
 "metadata": {
  "anaconda-cloud": {},
  "kernelspec": {
   "display_name": "Python [conda root]",
   "language": "python",
   "name": "conda-root-py"
  },
  "language_info": {
   "codemirror_mode": {
    "name": "ipython",
    "version": 3
   },
   "file_extension": ".py",
   "mimetype": "text/x-python",
   "name": "python",
   "nbconvert_exporter": "python",
   "pygments_lexer": "ipython3",
   "version": "3.5.2"
  }
 },
 "nbformat": 4,
 "nbformat_minor": 1
}
