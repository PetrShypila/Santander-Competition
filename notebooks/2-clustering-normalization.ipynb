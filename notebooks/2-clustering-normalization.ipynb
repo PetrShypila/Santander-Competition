{
 "cells": [
  {
   "cell_type": "code",
   "execution_count": null,
   "metadata": {
    "collapsed": false
   },
   "outputs": [],
   "source": [
    "import numpy as np\n",
    "import pandas as pd\n",
    "from numpy import dtype\n",
    "from collections import defaultdict\n",
    "from datetime import datetime as dt\n",
    "from sklearn.preprocessing import MinMaxScaler\n",
    "\n",
    "%matplotlib inline\n",
    "pd.set_option('display.max_columns', None)"
   ]
  },
  {
   "cell_type": "code",
   "execution_count": null,
   "metadata": {
    "collapsed": false
   },
   "outputs": [],
   "source": [
    "iter_csv = pd.read_csv('../data/processed/train-processed.csv.gz', skipinitialspace = True, \n",
    "                       iterator=True, chunksize=50000)\n",
    "\n",
    "data = pd.concat([chunk for chunk in iter_csv], ignore_index=True)"
   ]
  },
  {
   "cell_type": "code",
   "execution_count": null,
   "metadata": {
    "collapsed": false,
    "scrolled": true
   },
   "outputs": [],
   "source": [
    "data.head()"
   ]
  },
  {
   "cell_type": "code",
   "execution_count": null,
   "metadata": {
    "collapsed": false
   },
   "outputs": [],
   "source": [
    "def age_group(age):\n",
    "    if age < 18: return 0\n",
    "    if age < 25: return 1\n",
    "    if age < 30: return 2\n",
    "    if age < 40: return 3\n",
    "    if age < 60: return 4\n",
    "    return 5\n",
    "\n",
    "# cluster keys: sexo, age group, segmento, cod_prov\n",
    "def hashcode(user):\n",
    "    group = age_group(user.age) \n",
    "    return (group, user.sexo, user.segmento, user.cod_prov)"
   ]
  },
  {
   "cell_type": "code",
   "execution_count": null,
   "metadata": {
    "collapsed": false
   },
   "outputs": [],
   "source": [
    "clusterid_userids = defaultdict(list)\n",
    "\n",
    "def split_by_clusters(row):        \n",
    "    userhash = hashcode(row)\n",
    "    clusterid_userids[userhash].append(row.ncodpers)\n",
    "    \n",
    "_ = data.apply(split_by_clusters, axis=1)"
   ]
  },
  {
   "cell_type": "code",
   "execution_count": null,
   "metadata": {
    "collapsed": false
   },
   "outputs": [],
   "source": [
    "cluster_sizes = {}\n",
    "\n",
    "for key, val in clusterid_userids.items():\n",
    "    cluster_sizes[key] = len(val)\n",
    "\n",
    "print('Median cluster size:', np.median(list(cluster_sizes.values())))"
   ]
  },
  {
   "cell_type": "code",
   "execution_count": null,
   "metadata": {
    "collapsed": false
   },
   "outputs": [],
   "source": [
    "cluster_id = 0\n",
    "\n",
    "data.loc[:,'cluster'] = 0\n",
    "\n",
    "for ids in clusterid_userids.values():\n",
    "    data.cluster[data.ncodpers.isin(ids)] = cluster_id\n",
    "    cluster_id += 1\n",
    "    \n",
    "\n",
    "data.head()"
   ]
  },
  {
   "cell_type": "code",
   "execution_count": null,
   "metadata": {
    "collapsed": false
   },
   "outputs": [],
   "source": [
    "clean_data_without_id = data.drop(['ncodpers', 'pais_residencia', 'cluster'], axis=1)\n",
    "\n",
    "x = clean_data_without_id.values #returns a numpy array\n",
    "x_scaled = MinMaxScaler().fit_transform(x)\n",
    "\n",
    "normalized = pd.DataFrame(x_scaled)"
   ]
  },
  {
   "cell_type": "code",
   "execution_count": null,
   "metadata": {
    "collapsed": false
   },
   "outputs": [],
   "source": [
    "normalized.columns=list(clean_data_without_id.columns.values)\n",
    "normalized.tail()"
   ]
  },
  {
   "cell_type": "code",
   "execution_count": null,
   "metadata": {
    "collapsed": false
   },
   "outputs": [],
   "source": [
    "normalized_data = pd.concat([data[['cluster', 'ncodpers']], normalized], axis=1)\n",
    "normalized_data.to_csv('../data/processed/train-normalized.csv.gz', index=False, compression='gzip')"
   ]
  },
  {
   "cell_type": "code",
   "execution_count": null,
   "metadata": {
    "collapsed": false
   },
   "outputs": [],
   "source": [
    "normalized_data.head()"
   ]
  }
 ],
 "metadata": {
  "anaconda-cloud": {},
  "kernelspec": {
   "display_name": "Python [Root]",
   "language": "python",
   "name": "Python [Root]"
  },
  "language_info": {
   "codemirror_mode": {
    "name": "ipython",
    "version": 3
   },
   "file_extension": ".py",
   "mimetype": "text/x-python",
   "name": "python",
   "nbconvert_exporter": "python",
   "pygments_lexer": "ipython3",
   "version": "3.5.2"
  }
 },
 "nbformat": 4,
 "nbformat_minor": 1
}
